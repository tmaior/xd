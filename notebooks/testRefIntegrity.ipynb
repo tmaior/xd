{
 "cells": [
  {
   "cell_type": "code",
   "execution_count": 1,
   "metadata": {},
   "outputs": [],
   "source": [
    "import numpy as np\n",
    "import pandas as pd\n",
    "import os"
   ]
  },
  {
   "cell_type": "code",
   "execution_count": 2,
   "metadata": {},
   "outputs": [],
   "source": [
    "def filter_is_csv(item):\n",
    "    \"\"\"\n",
    "    Returns true if the item is a csv file\n",
    "    \"\"\"\n",
    "    return item.endswith(\".csv\")\n",
    "\n",
    "def filter_is_json(item):\n",
    "    \"\"\"\n",
    "    Returns true if the item is a csv file\n",
    "    \"\"\"\n",
    "    return item.endswith(\".json\")\n",
    "        "
   ]
  },
  {
   "cell_type": "code",
   "execution_count": 3,
   "metadata": {},
   "outputs": [],
   "source": [
    "def get_data(input_folder):\n",
    "    \"\"\"\n",
    "    Get the aggregated dataframe, consisting of all data inside 'input_folder'\n",
    "    \n",
    "    Args:\n",
    "       input_folder (str): specifying the folder which stores the data\n",
    "    Returns:\n",
    "       pd.DataFrame: aggregated data frame in a dictionary and list\n",
    "       with the name of the matadata json file (can be an empty list) \n",
    "    \"\"\"\n",
    "    \n",
    "    list_of_files = []\n",
    "\n",
    "    \n",
    "\n",
    "    for (dirpath, dirnames, filenames) in os.walk(input_folder):\n",
    "        list_of_files += [os.path.join(dirpath, file) for file in filenames]\n",
    "\n",
    "    print(f\"loaded {len(list_of_files)} files\")\n",
    "\n",
    "    # Make relative paths from absolute file paths\n",
    "    rel_paths = [os.path.relpath(item, input_folder) for item in list_of_files]\n",
    "    print(rel_paths)\n",
    "    # Filter out csv files\n",
    "    json_path = list(filter(filter_is_json, rel_paths))[0]\n",
    "    # Filter out non-csv files\n",
    "    rel_paths = list(filter(filter_is_csv, rel_paths))\n",
    "    print(rel_paths)\n",
    "    # Get absolute paths\n",
    "    abs_paths = [os.path.join(input_folder, item) for item in rel_paths]\n",
    "    # Concatenate all files in a dictionary\n",
    "    dfs = {}\n",
    "    for item,file in zip(rel_paths,abs_paths):\n",
    "        dfs[item[:-4]] = pd.read_csv(file, encoding = 'ISO-8859-1')\n",
    "    print(dfs.keys())\n",
    "    return dfs,json_path"
   ]
  },
  {
   "cell_type": "code",
   "execution_count": 4,
   "metadata": {},
   "outputs": [
    {
     "name": "stdout",
     "output_type": "stream",
     "text": [
      "loaded 6 files\n",
      "['demo_metadata.json', 'tariftyp.csv', 'tariftyp.pkl', 'tarifziffer.csv', 'tarifziffer.pkl', '.ipynb_checkpoints\\\\tariftyp-checkpoint.csv']\n",
      "['tariftyp.csv', 'tarifziffer.csv', '.ipynb_checkpoints\\\\tariftyp-checkpoint.csv']\n",
      "dict_keys(['tariftyp', 'tarifziffer', '.ipynb_checkpoints\\\\tariftyp-checkpoint'])\n"
     ]
    }
   ],
   "source": [
    "dfs,metadata_path = get_data('../data/proj_demo_adcubumMT/airflow_data/data_synth')"
   ]
  },
  {
   "cell_type": "code",
   "execution_count": 6,
   "metadata": {},
   "outputs": [
    {
     "data": {
      "text/plain": [
       "dict_keys(['tariftyp', 'tarifziffer', '.ipynb_checkpoints\\\\tariftyp-checkpoint'])"
      ]
     },
     "execution_count": 6,
     "metadata": {},
     "output_type": "execute_result"
    }
   ],
   "source": [
    "dfs.keys()"
   ]
  },
  {
   "cell_type": "code",
   "execution_count": 7,
   "metadata": {},
   "outputs": [
    {
     "name": "stdout",
     "output_type": "stream",
     "text": [
      "Number of unknown references: 0\n",
      "Unknown reference values: set()\n"
     ]
    }
   ],
   "source": [
    "primary_keys = set(dfs['tariftyp']['BOID'])\n",
    "foreign_keys = set(dfs['tarifziffer']['ITSTARIFTYP'])\n",
    "\n",
    "unknown_references = foreign_keys - primary_keys\n",
    "\n",
    "print('Number of unknown references:', len(unknown_references))\n",
    "print('Unknown reference values:', unknown_references)"
   ]
  }
 ],
 "metadata": {
  "kernelspec": {
   "display_name": "base",
   "language": "python",
   "name": "python3"
  },
  "language_info": {
   "codemirror_mode": {
    "name": "ipython",
    "version": 3
   },
   "file_extension": ".py",
   "mimetype": "text/x-python",
   "name": "python",
   "nbconvert_exporter": "python",
   "pygments_lexer": "ipython3",
   "version": "3.9.7"
  },
  "orig_nbformat": 4,
  "vscode": {
   "interpreter": {
    "hash": "c036696e1985ce72fab21f095b222ac9150169f4d40e744670dd2ebcdb8cbc73"
   }
  }
 },
 "nbformat": 4,
 "nbformat_minor": 2
}
