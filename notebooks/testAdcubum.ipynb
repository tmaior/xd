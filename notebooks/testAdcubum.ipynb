{
 "cells": [
  {
   "cell_type": "markdown",
   "metadata": {},
   "source": [
    "<center>\n",
    "<h1> SYNTH HUB DEVELOPMENT - API DEMO - </h1>\n",
    "    <h3>January 29, 2023</h3>\n",
    "<hr>\n",
    "<h1>Use case: Adcubum</h1> \n",
    "<h2>Single-Table and Multi-table API Tutorial</h2>\n",
    "<hr>\n",
    " </center>"
   ]
  },
  {
   "cell_type": "markdown",
   "metadata": {},
   "source": [
    "The calls to the API can be done from jupyter notebooks, bash postman etc."
   ]
  },
  {
   "cell_type": "code",
   "execution_count": 12,
   "metadata": {},
   "outputs": [],
   "source": [
    "import requests\n",
    "import json"
   ]
  },
  {
   "cell_type": "markdown",
   "metadata": {},
   "source": [
    "Print the names of all the pipelines available with description and owners"
   ]
  },
  {
   "cell_type": "code",
   "execution_count": 13,
   "metadata": {},
   "outputs": [],
   "source": [
    "deployment_url = \"http://syntheticushub_airflow-webserver_1:8080\"\n",
    "#deployment_url = \"http://localhost:8080/\""
   ]
  },
  {
   "cell_type": "code",
   "execution_count": 16,
   "metadata": {},
   "outputs": [
    {
     "name": "stdout",
     "output_type": "stream",
     "text": [
      "Dag name, owners, description: demoAdcubum ['adcubum'] Synthetcus Hub use case Adcubum relational and bi-temporal dataset\n",
      "Dag name, owners, description: demoAdcubumRel ['adcubum'] Synthetcus Hub Pipeline Relational Database\n",
      "Dag name, owners, description: demoSyntheticus ['syntheticus'] Synthetcus Hub Pipeline 4 demo\n",
      "Dag name, owners, description: demoSyntheticusRel ['syntheticus'] Synthetcus Hub Pipeline Relational Database\n"
     ]
    }
   ],
   "source": [
    "response = requests.get(\n",
    "   url=f\"{deployment_url}/api/v1/dags\",\n",
    "   auth = (\"airflow\",\"airflow\")\n",
    ")\n",
    "json_obj = response.json()\n",
    "\n",
    "for item in json_obj['dags']:\n",
    "   print('Dag name, owners, description:',item['dag_id'],item['owners'],item['description'])"
   ]
  },
  {
   "cell_type": "markdown",
   "metadata": {},
   "source": [
    "List the tasks that will be executed by a specific pipeline"
   ]
  },
  {
   "cell_type": "code",
   "execution_count": 17,
   "metadata": {},
   "outputs": [
    {
     "name": "stdout",
     "output_type": "stream",
     "text": [
      "data_ingestion\n",
      "model_sampling\n",
      "model_training\n",
      "postprocess_data\n",
      "preprocess_data\n",
      "track_data\n",
      "track_model\n",
      "track_synth_data\n"
     ]
    }
   ],
   "source": [
    "dag_id = \"demoAdcubum\"\n",
    "\n",
    "response = requests.get(\n",
    "   url=f\"{deployment_url}/api/v1/dags/{dag_id}/tasks\",\n",
    "   auth = (\"airflow\",\"airflow\")\n",
    ")\n",
    "json_obj = response.json()\n",
    "\n",
    "for item in json_obj['tasks']:\n",
    "   print(item['task_id'])\n"
   ]
  },
  {
   "cell_type": "markdown",
   "metadata": {},
   "source": [
    "## Trigger a specific dag"
   ]
  },
  {
   "cell_type": "markdown",
   "metadata": {},
   "source": [
    "### Project Structure"
   ]
  },
  {
   "cell_type": "markdown",
   "metadata": {},
   "source": [
    "    data\n",
    "    ├───proj_demo_iris\n",
    "    │   ├───airflow_data\n",
    "    │   │   ├───data_orig\n",
    "    │   │   ├───data_synth\n",
    "    │   │   ├───models\n",
    "    │   │   └───report\n",
    "    │   └───uploaded_data\n",
    "    │       ├───iris_v1\n",
    "    │       └───iris_v2"
   ]
  },
  {
   "cell_type": "markdown",
   "metadata": {},
   "source": [
    "### Single Table Example"
   ]
  },
  {
   "cell_type": "markdown",
   "metadata": {},
   "source": [
    "#### Simple example with Tarifziffer dataset"
   ]
  },
  {
   "cell_type": "code",
   "execution_count": 18,
   "metadata": {},
   "outputs": [
    {
     "name": "stdout",
     "output_type": "stream",
     "text": [
      "{'conf': {'dataset_dir': 'tarifziffer', 'dataset_type': 'singleTable', 'main_data_dir': '/opt/airflow/data', 'project_dir': 'proj_demo_adcubumST', 'synth_num_rows': 'Default'}, 'dag_id': 'demoAdcubum', 'dag_run_id': 'manual__2023-02-16T16:45:58.809412+00:00', 'data_interval_end': '2023-02-16T16:45:58.809412+00:00', 'data_interval_start': '2023-02-16T16:45:58.809412+00:00', 'end_date': None, 'execution_date': '2023-02-16T16:45:58.809412+00:00', 'external_trigger': True, 'last_scheduling_decision': None, 'logical_date': '2023-02-16T16:45:58.809412+00:00', 'run_type': 'manual', 'start_date': None, 'state': 'queued'}\n"
     ]
    }
   ],
   "source": [
    "dag_id = \"demoAdcubum\" # SET THE PIPELINE TO RUN\n",
    "\n",
    "# PARAMETERS FOR THE PIPELINE RUN \n",
    "body = {\n",
    "    \"conf\": {\n",
    "        ### SET DATASET TYPE\n",
    "        \"dataset_type\":\"singleTable\", #multiTable #singleTable\n",
    "        ### SET NUMBER OF ROWS (DEFAULT: SAME NUMBER AS DATASET)\n",
    "        \"synth_num_rows\":\"Default\", # 'Default' or 'integer'\n",
    "        ### SET THE ORIGINAL DATA FOLDER\n",
    "        \"main_data_dir\":\"/opt/airflow/data\",\n",
    "        ### SET A UNIQUE NAME FOR YOUR PROJECT (e.g. <PROJECT_NAME>\"):\n",
    "        \"project_dir\":\"proj_demo_adcubumST\",\n",
    "        ### SET A UNIQUE NAME FOR DATASET PRESENT IN THE PROJECT FOLDER:\n",
    "        \"dataset_dir\":\"tarifziffer\",\n",
    "    }\n",
    "}\n",
    "\n",
    "headers = {\n",
    "    'accept': 'application/json',\n",
    "    'Content-Type': 'application/json',\n",
    "}\n",
    "\n",
    "response = requests.post(\n",
    "    url=f\"{deployment_url}/api/v1/dags/{dag_id}/dagRuns\",\n",
    "    headers=headers, \n",
    "    auth = (\"airflow\",\"airflow\"), # SET SECRET USER AND PWD\n",
    "    data=json.dumps(body)\n",
    ")\n",
    "json_obj = response.json()\n",
    "print(json_obj)"
   ]
  },
  {
   "cell_type": "code",
   "execution_count": null,
   "metadata": {},
   "outputs": [],
   "source": []
  }
 ],
 "metadata": {
  "kernelspec": {
   "display_name": "Python 3 (ipykernel)",
   "language": "python",
   "name": "python3"
  },
  "language_info": {
   "codemirror_mode": {
    "name": "ipython",
    "version": 3
   },
   "file_extension": ".py",
   "mimetype": "text/x-python",
   "name": "python",
   "nbconvert_exporter": "python",
   "pygments_lexer": "ipython3",
   "version": "3.9.10"
  },
  "vscode": {
   "interpreter": {
    "hash": "c036696e1985ce72fab21f095b222ac9150169f4d40e744670dd2ebcdb8cbc73"
   }
  }
 },
 "nbformat": 4,
 "nbformat_minor": 4
}
